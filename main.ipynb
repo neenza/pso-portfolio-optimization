{
 "cells": [
  {
   "cell_type": "markdown",
   "metadata": {},
   "source": [
    "# Portfolio Optimization using PSO\n",
    "\n",
    "This notebook implements portfolio optimization using both traditional methods and Particle Swarm Optimization (PSO)."
   ]
  },
  {
   "cell_type": "code",
   "execution_count": 1,
   "metadata": {},
   "outputs": [],
   "source": [
    "import os\n",
    "import pandas as pd\n",
    "import numpy as np\n",
    "import matplotlib.pyplot as plt\n",
    "import seaborn as sns\n",
    "from datetime import datetime\n",
    "\n",
    "from src.data.data_processor import DataProcessor\n",
    "from src.optimization.portfolio_theory import PortfolioOptimizer\n",
    "from src.optimization.pso_optimizer import PSOPortfolioOptimizer"
   ]
  },
  {
   "cell_type": "markdown",
   "metadata": {},
   "source": [
    "## Configuration\n",
    "\n",
    "Set up the parameters for portfolio optimization"
   ]
  },
  {
   "cell_type": "code",
   "execution_count": 2,
   "metadata": {},
   "outputs": [
    {
     "name": "stdout",
     "output_type": "stream",
     "text": []
    }
   ],
   "source": [
    "# Configuration parameters\n",
    "config = {\n",
    "    'data_dir': '5m',\n",
    "    'n_stocks': 30,\n",
    "    'risk_free_rate': 0.02,\n",
    "    'objective': 'sharpe',\n",
    "    'n_particles': 100,\n",
    "    'iters': 200,\n",
    "    'output_dir': 'results'\n",
    "}\n",
    "\n",
    "# Create output directory if it doesn't exist\n",
    "if not os.path.exists(config['output_dir']):\n",
    "    os.makedirs(config['output_dir'])\n",
    "\n",
    "# Print settings\n",
    "print(\"Portfolio Optimization Settings:\")\n",
    "for key, value in config.items():\n",
    "    print(f\"{key}: {value}\")\n",
    "print(\"\\n\" + \"=\"*50 + \"\\n\")"
   ]
  },
  {
   "cell_type": "markdown",
   "metadata": {},
   "source": [
    "## Step 1: Load and Process Data"
   ]
  },
  {
   "cell_type": "code",
   "execution_count": 3,
   "metadata": {},
   "outputs": [
    {
     "name": "stdout",
     "output_type": "stream",
     "text": []
    }
   ],
   "source": [
    "print(\"Step 1: Loading and processing stock data\")\n",
    "data_processor = DataProcessor(config['data_dir'])\n",
    "stock_data = data_processor.load_stock_data(limit=config['n_stocks'])\n",
    "daily_returns = data_processor.calculate_daily_returns()\n",
    "\n",
    "# Calculate correlation matrix\n",
    "correlation_matrix = data_processor.calculate_correlation_matrix()\n",
    "\n",
    "# Split data into training and testing sets\n",
    "train_data, test_data = data_processor.split_train_test(test_ratio=0.2)\n",
    "print(f\"Training data shape: {train_data.shape}\")\n",
    "print(f\"Testing data shape: {test_data.shape}\")"
   ]
  },
  {
   "cell_type": "markdown",
   "metadata": {},
   "source": [
    "## Step 2: Traditional Portfolio Optimization"
   ]
  },
  {
   "cell_type": "code",
   "execution_count": 4,
   "metadata": {},
   "outputs": [
    {
     "name": "stdout",
     "output_type": "stream",
     "text": []
    },
    {
     "name": "stdout",
     "output_type": "stream",
     "text": []
    }
   ],
   "source": [
    "print(\"Step 2: Running traditional portfolio optimization\")\n",
    "traditional_optimizer = PortfolioOptimizer(train_data, risk_free_rate=config['risk_free_rate'])\n",
    "\n",
    "# Calculate metrics for different portfolio strategies\n",
    "weights_df, metrics_df = traditional_optimizer.portfolio_metrics_report()\n",
    "\n",
    "print(\"\\nPortfolio Metrics (Traditional Optimization):\")\n",
    "display(metrics_df)\n",
    "\n",
    "# Save metrics and weights\n",
    "metrics_df.to_csv(os.path.join(config['output_dir'], 'traditional_metrics.csv'))\n",
    "weights_df.to_csv(os.path.join(config['output_dir'], 'traditional_weights.csv'))"
   ]
  },
  {
   "cell_type": "markdown",
   "metadata": {},
   "source": [
    "## Step 3: PSO Portfolio Optimization"
   ]
  },
  {
   "cell_type": "code",
   "execution_count": 5,
   "metadata": {},
   "outputs": [
    {
     "name": "stdout",
     "output_type": "stream",
     "text": []
    },
    {
     "name": "stdout",
     "output_type": "stream",
     "text": []
    },
    {
     "name": "stdout",
     "output_type": "stream",
     "text": []
    },
    {
     "name": "stdout",
     "output_type": "stream",
     "text": []
    }
   ],
   "source": [
    "print(\"Step 3: Running PSO portfolio optimization\")\n",
    "pso_optimizer = PSOPortfolioOptimizer(\n",
    "    train_data, \n",
    "    risk_free_rate=config['risk_free_rate'], \n",
    "    objective=config['objective']\n",
    ")\n",
    "\n",
    "pso_weights, pso_return, pso_vol, pso_sharpe = pso_optimizer.optimize(\n",
    "    n_particles=config['n_particles'], \n",
    "    iters=config['iters']\n",
    ")\n",
    "\n",
    "# Save PSO weights\n",
    "pd.DataFrame({\n",
    "    'Asset': train_data.columns,\n",
    "    'Weight': pso_weights\n",
    "}).to_csv(os.path.join(config['output_dir'], 'pso_weights.csv'), index=False)"
   ]
  },
  {
   "cell_type": "markdown",
   "metadata": {},
   "source": [
    "## Step 4: Compare and Visualize Results"
   ]
  },
  {
   "cell_type": "code",
   "execution_count": 6,
   "metadata": {},
   "outputs": [
    {
     "name": "stdout",
     "output_type": "stream",
     "text": []
    },
    {
     "name": "stdout",
     "output_type": "stream",
     "text": []
    },
    {
     "name": "stdout",
     "output_type": "stream",
     "text": []
    },
    {
     "name": "stdout",
     "output_type": "stream",
     "text": []
    },
    {
     "name": "stdout",
     "output_type": "stream",
     "text": []
    },
    {
     "name": "stdout",
     "output_type": "stream",
     "text": []
    }
   ],
   "source": [
    "print(\"Step 4: Comparing optimization methods\")\n",
    "comparison = pso_optimizer.compare_with_traditional(traditional_optimizer)\n",
    "print(\"\\nComparison with Traditional Optimization:\")\n",
    "display(comparison)\n",
    "\n",
    "# Calculate portfolio performance\n",
    "initial_investment = 1000\n",
    "portfolio_values = {}\n",
    "\n",
    "test_cumulative_returns = test_data.cumprod()\n",
    "for name, cumulative_returns in test_cumulative_returns.items():\n",
    "    portfolio_values[name] = initial_investment * (1 + cumulative_returns)\n",
    "\n",
    "# Plot equity curve\n",
    "plt.figure(figsize=(12, 8))\n",
    "for name, values in portfolio_values.items():\n",
    "    plt.plot(values, label=f\"{name} (Final: ${values.iloc[-1]:.2f})\")\n",
    "\n",
    "plt.title(f'Portfolio Equity Curve (Initial Investment: ${initial_investment})')\n",
    "plt.xlabel('Date')\n",
    "plt.ylabel('Portfolio Value ($)')\n",
    "plt.legend()\n",
    "plt.grid(True)\n",
    "plt.tight_layout()\n",
    "plt.savefig(os.path.join(config['output_dir'], 'portfolio_equity_curve.png'))\n",
    "plt.show()\n",
    "\n",
    "# Display final values\n",
    "final_values = {name: value.iloc[-1] for name, value in portfolio_values.items()}\n",
    "final_values_df = pd.DataFrame(list(final_values.items()), \n",
    "                              columns=['Strategy', 'Final Portfolio Value ($)'])\n",
    "\n",
    "print(\"\\nFinal Portfolio Values (starting with $1000):\")\n",
    "display(final_values_df)\n",
    "\n",
    "# Save final values\n",
    "final_values_df.to_csv(os.path.join(config['output_dir'], 'final_portfolio_values.csv'), index=False)\n",
    "\n",
    "print(\"\\nPortfolio optimization complete!\")"
   ]
  }
 ],
 "metadata": {
  "kernelspec": {
   "display_name": "Python 3",
   "language": "python",
   "name": "python3"
  },
  "language_info": {
   "codemirror_mode": {
    "name": "ipython",
    "version": 3
   },
   "file_extension": ".py",
   "mimetype": "text/x-python",
   "name": "python",
   "nbconvert_exporter": "python",
   "pygments_lexer": "ipython3",
   "version": "3.11.1"
  }
 },
 "nbformat": 4,
 "nbformat_minor": 2
}
